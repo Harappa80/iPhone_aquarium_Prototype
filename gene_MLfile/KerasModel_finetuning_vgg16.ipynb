{
 "cells": [
  {
   "cell_type": "code",
   "execution_count": 1,
   "metadata": {
    "colab": {
     "autoexec": {
      "startup": false,
      "wait_interval": 0
     },
     "base_uri": "https://localhost:8080/",
     "height": 36
    },
    "colab_type": "code",
    "executionInfo": {
     "elapsed": 2889,
     "status": "ok",
     "timestamp": 1527413195260,
     "user": {
      "displayName": "Kazuki Hara",
      "photoUrl": "https://lh3.googleusercontent.com/a/default-user=s128",
      "userId": "112158034813562364180"
     },
     "user_tz": -540
    },
    "id": "lkrP3MP2UYnD",
    "outputId": "1d526d05-c0f9-4e40-da66-de2cee80eb7a"
   },
   "outputs": [
    {
     "name": "stderr",
     "output_type": "stream",
     "text": [
      "Using TensorFlow backend.\n",
      "/home/kazuki/.pyenv/versions/anaconda3-5.1.0/envs/CoreMl/lib/python2.7/site-packages/h5py/__init__.py:36: FutureWarning: Conversion of the second argument of issubdtype from `float` to `np.floating` is deprecated. In future, it will be treated as `np.float64 == np.dtype(float).type`.\n",
      "  from ._conv import register_converters as _register_converters\n"
     ]
    }
   ],
   "source": [
    "import os \n",
    "from keras.applications.vgg16 import VGG16\n",
    "from keras.preprocessing.image import ImageDataGenerator\n",
    "from keras.preprocessing import image \n",
    "from keras.models import Sequential, Model\n",
    "from keras.layers import Input , Activation , Flatten, Dense , Dropout\n",
    "from keras import optimizers\n",
    "\n",
    "import numpy as np\n",
    "import matplotlib.pyplot as plt\n",
    "from IPython.core.display import Image,display"
   ]
  },
  {
   "cell_type": "code",
   "execution_count": 2,
   "metadata": {
    "colab": {
     "autoexec": {
      "startup": false,
      "wait_interval": 0
     }
    },
    "colab_type": "code",
    "id": "0XxbUI85UYnW"
   },
   "outputs": [],
   "source": [
    "batch_size = 32\n",
    "epochs = 200\n",
    "\n",
    "classes = [\"dolphin\",\"jellyfish\",\"kumanomi\",\"otter\",\"penguin\",\"turtle\", \"azarashi\",\"ei\",\"manbou\",\"nanyouhagi\",\"same\"]\n",
    "nb_classes = len(classes)\n",
    "\n",
    "#画像のサイズ\n",
    "img_rows = 100\n",
    "img_cols = 100\n",
    "channels = 3\n",
    "\n",
    "train_data_dir = \"./data/train\"\n",
    "validation_data_dir = \"./data/validation\"\n",
    "\n",
    "result_dir = \"./results\""
   ]
  },
  {
   "cell_type": "code",
   "execution_count": 3,
   "metadata": {
    "colab": {
     "autoexec": {
      "startup": false,
      "wait_interval": 0
     }
    },
    "colab_type": "code",
    "id": "MBgXeC0hUYnd"
   },
   "outputs": [],
   "source": [
    "if not os.path.exists(result_dir):\n",
    "    os.mkdir(result_dir)"
   ]
  },
  {
   "cell_type": "code",
   "execution_count": 4,
   "metadata": {
    "colab": {
     "autoexec": {
      "startup": false,
      "wait_interval": 0
     },
     "base_uri": "https://localhost:8080/",
     "height": 36
    },
    "colab_type": "code",
    "executionInfo": {
     "elapsed": 3500,
     "status": "ok",
     "timestamp": 1527413201041,
     "user": {
      "displayName": "Kazuki Hara",
      "photoUrl": "https://lh3.googleusercontent.com/a/default-user=s128",
      "userId": "112158034813562364180"
     },
     "user_tz": -540
    },
    "id": "TWiC0jhfUYnl",
    "outputId": "5321f241-ff9a-4e19-e633-4e0cddd10d48"
   },
   "outputs": [],
   "source": [
    "input_tensor = Input(shape=(img_rows , img_cols , channels))\n",
    "base_model = VGG16(weights =\"imagenet\" , input_tensor = input_tensor, include_top = False)"
   ]
  },
  {
   "cell_type": "code",
   "execution_count": 5,
   "metadata": {
    "colab": {
     "autoexec": {
      "startup": false,
      "wait_interval": 0
     },
     "base_uri": "https://localhost:8080/",
     "height": 866
    },
    "colab_type": "code",
    "executionInfo": {
     "elapsed": 1095,
     "status": "ok",
     "timestamp": 1527413202274,
     "user": {
      "displayName": "Kazuki Hara",
      "photoUrl": "https://lh3.googleusercontent.com/a/default-user=s128",
      "userId": "112158034813562364180"
     },
     "user_tz": -540
    },
    "id": "t9ctC18PUYnr",
    "outputId": "4f947c6c-6abc-4596-81bb-762b5a8a94e0"
   },
   "outputs": [
    {
     "name": "stdout",
     "output_type": "stream",
     "text": [
      "_________________________________________________________________\n",
      "Layer (type)                 Output Shape              Param #   \n",
      "=================================================================\n",
      "input_1 (InputLayer)         (None, 100, 100, 3)       0         \n",
      "_________________________________________________________________\n",
      "block1_conv1 (Conv2D)        (None, 100, 100, 64)      1792      \n",
      "_________________________________________________________________\n",
      "block1_conv2 (Conv2D)        (None, 100, 100, 64)      36928     \n",
      "_________________________________________________________________\n",
      "block1_pool (MaxPooling2D)   (None, 50, 50, 64)        0         \n",
      "_________________________________________________________________\n",
      "block2_conv1 (Conv2D)        (None, 50, 50, 128)       73856     \n",
      "_________________________________________________________________\n",
      "block2_conv2 (Conv2D)        (None, 50, 50, 128)       147584    \n",
      "_________________________________________________________________\n",
      "block2_pool (MaxPooling2D)   (None, 25, 25, 128)       0         \n",
      "_________________________________________________________________\n",
      "block3_conv1 (Conv2D)        (None, 25, 25, 256)       295168    \n",
      "_________________________________________________________________\n",
      "block3_conv2 (Conv2D)        (None, 25, 25, 256)       590080    \n",
      "_________________________________________________________________\n",
      "block3_conv3 (Conv2D)        (None, 25, 25, 256)       590080    \n",
      "_________________________________________________________________\n",
      "block3_pool (MaxPooling2D)   (None, 12, 12, 256)       0         \n",
      "_________________________________________________________________\n",
      "block4_conv1 (Conv2D)        (None, 12, 12, 512)       1180160   \n",
      "_________________________________________________________________\n",
      "block4_conv2 (Conv2D)        (None, 12, 12, 512)       2359808   \n",
      "_________________________________________________________________\n",
      "block4_conv3 (Conv2D)        (None, 12, 12, 512)       2359808   \n",
      "_________________________________________________________________\n",
      "block4_pool (MaxPooling2D)   (None, 6, 6, 512)         0         \n",
      "_________________________________________________________________\n",
      "block5_conv1 (Conv2D)        (None, 6, 6, 512)         2359808   \n",
      "_________________________________________________________________\n",
      "block5_conv2 (Conv2D)        (None, 6, 6, 512)         2359808   \n",
      "_________________________________________________________________\n",
      "block5_conv3 (Conv2D)        (None, 6, 6, 512)         2359808   \n",
      "_________________________________________________________________\n",
      "block5_pool (MaxPooling2D)   (None, 3, 3, 512)         0         \n",
      "=================================================================\n",
      "Total params: 14,714,688\n",
      "Trainable params: 14,714,688\n",
      "Non-trainable params: 0\n",
      "_________________________________________________________________\n"
     ]
    }
   ],
   "source": [
    "base_model.summary()"
   ]
  },
  {
   "cell_type": "code",
   "execution_count": 6,
   "metadata": {
    "colab": {
     "autoexec": {
      "startup": false,
      "wait_interval": 0
     }
    },
    "colab_type": "code",
    "id": "ebgJTE4UUYnz"
   },
   "outputs": [],
   "source": [
    "x = base_model.output \n",
    "x = Flatten(input_shape = base_model.output_shape[1:])(x)\n",
    "x = Dense(256 , activation = \"relu\")(x)\n",
    "x = Dropout(0.5)(x)\n",
    "predictions = Dense(nb_classes, activation = \"softmax\")(x)"
   ]
  },
  {
   "cell_type": "code",
   "execution_count": 7,
   "metadata": {
    "colab": {
     "autoexec": {
      "startup": false,
      "wait_interval": 0
     },
     "base_uri": "https://localhost:8080/",
     "height": 1017
    },
    "colab_type": "code",
    "executionInfo": {
     "elapsed": 787,
     "status": "ok",
     "timestamp": 1527413204561,
     "user": {
      "displayName": "Kazuki Hara",
      "photoUrl": "https://lh3.googleusercontent.com/a/default-user=s128",
      "userId": "112158034813562364180"
     },
     "user_tz": -540
    },
    "id": "m2Ce1ewyUYn5",
    "outputId": "533322d1-b3b3-46df-ba9b-b6255625413f"
   },
   "outputs": [
    {
     "name": "stdout",
     "output_type": "stream",
     "text": [
      "_________________________________________________________________\n",
      "Layer (type)                 Output Shape              Param #   \n",
      "=================================================================\n",
      "input_1 (InputLayer)         (None, 100, 100, 3)       0         \n",
      "_________________________________________________________________\n",
      "block1_conv1 (Conv2D)        (None, 100, 100, 64)      1792      \n",
      "_________________________________________________________________\n",
      "block1_conv2 (Conv2D)        (None, 100, 100, 64)      36928     \n",
      "_________________________________________________________________\n",
      "block1_pool (MaxPooling2D)   (None, 50, 50, 64)        0         \n",
      "_________________________________________________________________\n",
      "block2_conv1 (Conv2D)        (None, 50, 50, 128)       73856     \n",
      "_________________________________________________________________\n",
      "block2_conv2 (Conv2D)        (None, 50, 50, 128)       147584    \n",
      "_________________________________________________________________\n",
      "block2_pool (MaxPooling2D)   (None, 25, 25, 128)       0         \n",
      "_________________________________________________________________\n",
      "block3_conv1 (Conv2D)        (None, 25, 25, 256)       295168    \n",
      "_________________________________________________________________\n",
      "block3_conv2 (Conv2D)        (None, 25, 25, 256)       590080    \n",
      "_________________________________________________________________\n",
      "block3_conv3 (Conv2D)        (None, 25, 25, 256)       590080    \n",
      "_________________________________________________________________\n",
      "block3_pool (MaxPooling2D)   (None, 12, 12, 256)       0         \n",
      "_________________________________________________________________\n",
      "block4_conv1 (Conv2D)        (None, 12, 12, 512)       1180160   \n",
      "_________________________________________________________________\n",
      "block4_conv2 (Conv2D)        (None, 12, 12, 512)       2359808   \n",
      "_________________________________________________________________\n",
      "block4_conv3 (Conv2D)        (None, 12, 12, 512)       2359808   \n",
      "_________________________________________________________________\n",
      "block4_pool (MaxPooling2D)   (None, 6, 6, 512)         0         \n",
      "_________________________________________________________________\n",
      "block5_conv1 (Conv2D)        (None, 6, 6, 512)         2359808   \n",
      "_________________________________________________________________\n",
      "block5_conv2 (Conv2D)        (None, 6, 6, 512)         2359808   \n",
      "_________________________________________________________________\n",
      "block5_conv3 (Conv2D)        (None, 6, 6, 512)         2359808   \n",
      "_________________________________________________________________\n",
      "block5_pool (MaxPooling2D)   (None, 3, 3, 512)         0         \n",
      "_________________________________________________________________\n",
      "flatten_1 (Flatten)          (None, 4608)              0         \n",
      "_________________________________________________________________\n",
      "dense_1 (Dense)              (None, 256)               1179904   \n",
      "_________________________________________________________________\n",
      "dropout_1 (Dropout)          (None, 256)               0         \n",
      "_________________________________________________________________\n",
      "dense_2 (Dense)              (None, 11)                2827      \n",
      "=================================================================\n",
      "Total params: 15,897,419\n",
      "Trainable params: 15,897,419\n",
      "Non-trainable params: 0\n",
      "_________________________________________________________________\n"
     ]
    }
   ],
   "source": [
    "model = Model(inputs =  base_model.input , outputs = predictions)\n",
    "model .summary()"
   ]
  },
  {
   "cell_type": "code",
   "execution_count": 8,
   "metadata": {
    "colab": {
     "autoexec": {
      "startup": false,
      "wait_interval": 0
     }
    },
    "colab_type": "code",
    "id": "euDTQkb5UYoD"
   },
   "outputs": [],
   "source": [
    "for layer in model.layers[:15]:\n",
    "    layer.trainable = False"
   ]
  },
  {
   "cell_type": "code",
   "execution_count": 9,
   "metadata": {
    "colab": {
     "autoexec": {
      "startup": false,
      "wait_interval": 0
     }
    },
    "colab_type": "code",
    "id": "K378HWpBUYoK"
   },
   "outputs": [],
   "source": [
    "model.compile(loss = \"categorical_crossentropy\",\n",
    "              optimizer = optimizers.SGD(lr = 1e-4 ,momentum = 0.9),\n",
    "              metrics =[\"accuracy\"])"
   ]
  },
  {
   "cell_type": "code",
   "execution_count": 10,
   "metadata": {
    "colab": {
     "autoexec": {
      "startup": false,
      "wait_interval": 0
     }
    },
    "colab_type": "code",
    "id": "7bP6vLsGUYoW"
   },
   "outputs": [],
   "source": [
    " #教師データの水増しが出来る\n",
    "train_datagen = ImageDataGenerator(\n",
    "    rescale = 1.0 / 255 ,\n",
    "    shear_range = 0.2 , #シアー変換\n",
    "    zoom_range = 0.2 , # ランダムにズーム\n",
    "    rotation_range = 5, # ランダムに回転する角度\n",
    "    horizontal_flip = True # 水平方向に反転\n",
    ")"
   ]
  },
  {
   "cell_type": "code",
   "execution_count": 11,
   "metadata": {
    "colab": {
     "autoexec": {
      "startup": false,
      "wait_interval": 0
     }
    },
    "colab_type": "code",
    "id": "OEnSPg6fUYof"
   },
   "outputs": [],
   "source": [
    "test_datagen = ImageDataGenerator(\n",
    "    rescale = 1.0 / 255 \n",
    ")"
   ]
  },
  {
   "cell_type": "code",
   "execution_count": 12,
   "metadata": {
    "colab": {
     "autoexec": {
      "startup": false,
      "wait_interval": 0
     },
     "base_uri": "https://localhost:8080/",
     "height": 55
    },
    "colab_type": "code",
    "executionInfo": {
     "elapsed": 14959,
     "status": "ok",
     "timestamp": 1527413228235,
     "user": {
      "displayName": "Kazuki Hara",
      "photoUrl": "https://lh3.googleusercontent.com/a/default-user=s128",
      "userId": "112158034813562364180"
     },
     "user_tz": -540
    },
    "id": "fdGTHQdtUYon",
    "outputId": "80c00815-2651-4b0e-c414-c2dcf270c5b9"
   },
   "outputs": [
    {
     "name": "stdout",
     "output_type": "stream",
     "text": [
      "Found 1016 images belonging to 11 classes.\n",
      "Found 1016 images belonging to 11 classes.\n"
     ]
    }
   ],
   "source": [
    "#7クラスの画像を自動検知して均等になるようにしてくれる\n",
    "train_generator = train_datagen.flow_from_directory(\n",
    "    train_data_dir ,\n",
    "    target_size = (img_rows ,img_cols),\n",
    "    color_mode = \"rgb\",\n",
    "    classes = classes ,\n",
    "    class_mode = \"categorical\",\n",
    "    batch_size = batch_size ,\n",
    "    shuffle = True \n",
    ")\n",
    "\n",
    "validation_generator = test_datagen.flow_from_directory(\n",
    "    validation_data_dir ,\n",
    "    target_size = (img_rows ,img_cols),\n",
    "    color_mode = \"rgb\",\n",
    "    classes = classes ,\n",
    "    class_mode = \"categorical\",\n",
    "    batch_size = batch_size ,\n",
    "    shuffle = True \n",
    ")"
   ]
  },
  {
   "cell_type": "code",
   "execution_count": 13,
   "metadata": {
    "colab": {
     "autoexec": {
      "startup": false,
      "wait_interval": 0
     },
     "base_uri": "https://localhost:8080/",
     "height": 319
    },
    "colab_type": "code",
    "id": "QbvbDCJDUYox",
    "outputId": "feb3503b-2dee-47b1-8c70-10870cb2eb77"
   },
   "outputs": [
    {
     "name": "stdout",
     "output_type": "stream",
     "text": [
      "Epoch 1/200\n",
      "31/31 [==============================] - 340s - loss: 2.5331 - acc: 0.1230 - val_loss: 2.2099 - val_acc: 0.2056\n",
      "Epoch 2/200\n",
      "31/31 [==============================] - 319s - loss: 2.2953 - acc: 0.1748 - val_loss: 2.0747 - val_acc: 0.2744\n",
      "Epoch 3/200\n",
      "31/31 [==============================] - 320s - loss: 2.1615 - acc: 0.2493 - val_loss: 1.9603 - val_acc: 0.3648\n",
      "Epoch 4/200\n",
      "31/31 [==============================] - 318s - loss: 2.0253 - acc: 0.2944 - val_loss: 1.8255 - val_acc: 0.4858\n",
      "Epoch 5/200\n",
      "31/31 [==============================] - 319s - loss: 1.8800 - acc: 0.3757 - val_loss: 1.6972 - val_acc: 0.5325\n",
      "Epoch 6/200\n",
      "31/31 [==============================] - 318s - loss: 1.7522 - acc: 0.4089 - val_loss: 1.5488 - val_acc: 0.5671\n",
      "Epoch 7/200\n",
      "31/31 [==============================] - 323s - loss: 1.7291 - acc: 0.4170 - val_loss: 1.4132 - val_acc: 0.6321\n",
      "Epoch 8/200\n",
      "31/31 [==============================] - 318s - loss: 1.5845 - acc: 0.4678 - val_loss: 1.3196 - val_acc: 0.6524\n",
      "Epoch 9/200\n",
      "31/31 [==============================] - 319s - loss: 1.4841 - acc: 0.5010 - val_loss: 1.2349 - val_acc: 0.6697\n",
      "Epoch 10/200\n",
      "31/31 [==============================] - 318s - loss: 1.4258 - acc: 0.5309 - val_loss: 1.1119 - val_acc: 0.7093\n",
      "Epoch 11/200\n",
      "31/31 [==============================] - 322s - loss: 1.3175 - acc: 0.5719 - val_loss: 1.0473 - val_acc: 0.7134\n",
      "Epoch 12/200\n",
      "31/31 [==============================] - 318s - loss: 1.2838 - acc: 0.5884 - val_loss: 0.9794 - val_acc: 0.7205\n",
      "Epoch 13/200\n",
      "31/31 [==============================] - 318s - loss: 1.1966 - acc: 0.5958 - val_loss: 0.9060 - val_acc: 0.7480\n",
      "Epoch 14/200\n",
      "31/31 [==============================] - 322s - loss: 1.1807 - acc: 0.6089 - val_loss: 0.8492 - val_acc: 0.7734\n",
      "Epoch 15/200\n",
      "31/31 [==============================] - 318s - loss: 1.0517 - acc: 0.6653 - val_loss: 0.7929 - val_acc: 0.7795\n",
      "Epoch 16/200\n",
      "31/31 [==============================] - 313s - loss: 1.0445 - acc: 0.6317 - val_loss: 0.7549 - val_acc: 0.7835\n",
      "Epoch 17/200\n",
      "31/31 [==============================] - 300s - loss: 1.0210 - acc: 0.6573 - val_loss: 0.7040 - val_acc: 0.7978\n",
      "Epoch 18/200\n",
      "31/31 [==============================] - 306s - loss: 0.9836 - acc: 0.6657 - val_loss: 0.6494 - val_acc: 0.8283\n",
      "Epoch 19/200\n",
      "31/31 [==============================] - 300s - loss: 0.8726 - acc: 0.7288 - val_loss: 0.6451 - val_acc: 0.8039\n",
      "Epoch 20/200\n",
      "31/31 [==============================] - 301s - loss: 0.9019 - acc: 0.6993 - val_loss: 0.6406 - val_acc: 0.8354\n",
      "Epoch 21/200\n",
      "31/31 [==============================] - 300s - loss: 0.8534 - acc: 0.7103 - val_loss: 0.6356 - val_acc: 0.7998\n",
      "Epoch 22/200\n",
      "31/31 [==============================] - 305s - loss: 0.8424 - acc: 0.7251 - val_loss: 0.5561 - val_acc: 0.8526\n",
      "Epoch 23/200\n",
      "31/31 [==============================] - 301s - loss: 0.8076 - acc: 0.7382 - val_loss: 0.5449 - val_acc: 0.8455\n",
      "Epoch 24/200\n",
      "31/31 [==============================] - 301s - loss: 0.7836 - acc: 0.7443 - val_loss: 0.5195 - val_acc: 0.8303\n",
      "Epoch 25/200\n",
      "31/31 [==============================] - 301s - loss: 0.7120 - acc: 0.7574 - val_loss: 0.5242 - val_acc: 0.8252\n",
      "Epoch 26/200\n",
      "31/31 [==============================] - 305s - loss: 0.7306 - acc: 0.7695 - val_loss: 0.4850 - val_acc: 0.8526\n",
      "Epoch 27/200\n",
      "31/31 [==============================] - 300s - loss: 0.7032 - acc: 0.7792 - val_loss: 0.4627 - val_acc: 0.8669\n",
      "Epoch 28/200\n",
      "31/31 [==============================] - 300s - loss: 0.7174 - acc: 0.7557 - val_loss: 0.4091 - val_acc: 0.8862\n",
      "Epoch 29/200\n",
      "31/31 [==============================] - 301s - loss: 0.6702 - acc: 0.7823 - val_loss: 0.4189 - val_acc: 0.8801\n",
      "Epoch 30/200\n",
      "31/31 [==============================] - 302s - loss: 0.6047 - acc: 0.7950 - val_loss: 0.4079 - val_acc: 0.8811\n",
      "Epoch 31/200\n",
      "31/31 [==============================] - 303s - loss: 0.6513 - acc: 0.7886 - val_loss: 0.3821 - val_acc: 0.8984\n",
      "Epoch 32/200\n",
      "31/31 [==============================] - 306s - loss: 0.6015 - acc: 0.7917 - val_loss: 0.3877 - val_acc: 0.8852\n",
      "Epoch 33/200\n",
      "31/31 [==============================] - 302s - loss: 0.5863 - acc: 0.8125 - val_loss: 0.3527 - val_acc: 0.9052\n",
      "Epoch 34/200\n",
      "31/31 [==============================] - 301s - loss: 0.5828 - acc: 0.8031 - val_loss: 0.3388 - val_acc: 0.9075\n",
      "Epoch 35/200\n",
      "31/31 [==============================] - 305s - loss: 0.5919 - acc: 0.7984 - val_loss: 0.3016 - val_acc: 0.9207\n",
      "Epoch 36/200\n",
      "31/31 [==============================] - 302s - loss: 0.5548 - acc: 0.8276 - val_loss: 0.3217 - val_acc: 0.9146\n",
      "Epoch 37/200\n",
      "31/31 [==============================] - 301s - loss: 0.5246 - acc: 0.8290 - val_loss: 0.2921 - val_acc: 0.9217\n",
      "Epoch 38/200\n",
      "31/31 [==============================] - 301s - loss: 0.5079 - acc: 0.8219 - val_loss: 0.3071 - val_acc: 0.9248\n",
      "Epoch 39/200\n",
      "31/31 [==============================] - 304s - loss: 0.4899 - acc: 0.8350 - val_loss: 0.2753 - val_acc: 0.9278\n",
      "Epoch 40/200\n",
      "31/31 [==============================] - 300s - loss: 0.4770 - acc: 0.8391 - val_loss: 0.2649 - val_acc: 0.9350\n",
      "Epoch 41/200\n",
      "31/31 [==============================] - 301s - loss: 0.4838 - acc: 0.8404 - val_loss: 0.2527 - val_acc: 0.9309\n",
      "Epoch 42/200\n",
      "31/31 [==============================] - 301s - loss: 0.4431 - acc: 0.8552 - val_loss: 0.2795 - val_acc: 0.9116\n",
      "Epoch 43/200\n",
      "31/31 [==============================] - 305s - loss: 0.4219 - acc: 0.8609 - val_loss: 0.2473 - val_acc: 0.9258\n",
      "Epoch 44/200\n",
      "31/31 [==============================] - 301s - loss: 0.4670 - acc: 0.8383 - val_loss: 0.2257 - val_acc: 0.9390\n",
      "Epoch 45/200\n",
      "31/31 [==============================] - 301s - loss: 0.4060 - acc: 0.8683 - val_loss: 0.2034 - val_acc: 0.9502\n",
      "Epoch 46/200\n",
      "31/31 [==============================] - 301s - loss: 0.4133 - acc: 0.8737 - val_loss: 0.2073 - val_acc: 0.9461\n",
      "Epoch 47/200\n",
      "31/31 [==============================] - 305s - loss: 0.3845 - acc: 0.8723 - val_loss: 0.1985 - val_acc: 0.9492\n",
      "Epoch 48/200\n",
      "31/31 [==============================] - 300s - loss: 0.4129 - acc: 0.8468 - val_loss: 0.1801 - val_acc: 0.9563\n",
      "Epoch 49/200\n",
      "31/31 [==============================] - 301s - loss: 0.3659 - acc: 0.8770 - val_loss: 0.1829 - val_acc: 0.9553\n",
      "Epoch 50/200\n",
      "31/31 [==============================] - 300s - loss: 0.3547 - acc: 0.8854 - val_loss: 0.1846 - val_acc: 0.9502\n",
      "Epoch 51/200\n",
      "31/31 [==============================] - 305s - loss: 0.3609 - acc: 0.8804 - val_loss: 0.1671 - val_acc: 0.9563\n",
      "Epoch 52/200\n",
      "31/31 [==============================] - 300s - loss: 0.3686 - acc: 0.8857 - val_loss: 0.1654 - val_acc: 0.9563\n",
      "Epoch 53/200\n",
      "31/31 [==============================] - 301s - loss: 0.3287 - acc: 0.8942 - val_loss: 0.1413 - val_acc: 0.9654\n",
      "Epoch 54/200\n",
      "31/31 [==============================] - 299s - loss: 0.3189 - acc: 0.8972 - val_loss: 0.1589 - val_acc: 0.9604\n",
      "Epoch 55/200\n",
      "31/31 [==============================] - 304s - loss: 0.3294 - acc: 0.8884 - val_loss: 0.1408 - val_acc: 0.9665\n",
      "Epoch 56/200\n",
      "31/31 [==============================] - 301s - loss: 0.3338 - acc: 0.8915 - val_loss: 0.1424 - val_acc: 0.9695\n",
      "Epoch 57/200\n",
      "31/31 [==============================] - 300s - loss: 0.3293 - acc: 0.8888 - val_loss: 0.1262 - val_acc: 0.9746\n",
      "Epoch 58/200\n",
      "31/31 [==============================] - 300s - loss: 0.3146 - acc: 0.8965 - val_loss: 0.1377 - val_acc: 0.9705\n",
      "Epoch 59/200\n",
      "31/31 [==============================] - 305s - loss: 0.3110 - acc: 0.9022 - val_loss: 0.1355 - val_acc: 0.9665\n",
      "Epoch 60/200\n",
      "31/31 [==============================] - 300s - loss: 0.3204 - acc: 0.8864 - val_loss: 0.1274 - val_acc: 0.9705\n",
      "Epoch 61/200\n",
      "31/31 [==============================] - 300s - loss: 0.2848 - acc: 0.9113 - val_loss: 0.1272 - val_acc: 0.9715\n",
      "Epoch 62/200\n",
      "31/31 [==============================] - 301s - loss: 0.3094 - acc: 0.8982 - val_loss: 0.1189 - val_acc: 0.9705\n",
      "Epoch 63/200\n",
      "31/31 [==============================] - 305s - loss: 0.2857 - acc: 0.9133 - val_loss: 0.1074 - val_acc: 0.9817\n",
      "Epoch 64/200\n",
      "31/31 [==============================] - 300s - loss: 0.2607 - acc: 0.9039 - val_loss: 0.1042 - val_acc: 0.9807\n",
      "Epoch 65/200\n",
      "31/31 [==============================] - 302s - loss: 0.2820 - acc: 0.9093 - val_loss: 0.1038 - val_acc: 0.9829\n",
      "Epoch 66/200\n"
     ]
    },
    {
     "name": "stdout",
     "output_type": "stream",
     "text": [
      "31/31 [==============================] - 301s - loss: 0.2684 - acc: 0.9136 - val_loss: 0.0993 - val_acc: 0.9827\n",
      "Epoch 67/200\n",
      "31/31 [==============================] - 304s - loss: 0.2588 - acc: 0.9116 - val_loss: 0.1072 - val_acc: 0.9787\n",
      "Epoch 68/200\n",
      "31/31 [==============================] - 303s - loss: 0.2481 - acc: 0.9241 - val_loss: 0.1061 - val_acc: 0.9736\n",
      "Epoch 69/200\n",
      "31/31 [==============================] - 300s - loss: 0.2326 - acc: 0.9254 - val_loss: 0.0843 - val_acc: 0.9888\n",
      "Epoch 70/200\n",
      "31/31 [==============================] - 300s - loss: 0.2184 - acc: 0.9308 - val_loss: 0.0819 - val_acc: 0.9878\n",
      "Epoch 71/200\n",
      "31/31 [==============================] - 305s - loss: 0.2412 - acc: 0.9220 - val_loss: 0.0831 - val_acc: 0.9878\n",
      "Epoch 72/200\n",
      "31/31 [==============================] - 300s - loss: 0.2346 - acc: 0.9261 - val_loss: 0.0842 - val_acc: 0.9888\n",
      "Epoch 73/200\n",
      "31/31 [==============================] - 300s - loss: 0.2347 - acc: 0.9281 - val_loss: 0.0836 - val_acc: 0.9868\n",
      "Epoch 74/200\n",
      "31/31 [==============================] - 300s - loss: 0.2301 - acc: 0.9261 - val_loss: 0.0686 - val_acc: 0.9929\n",
      "Epoch 75/200\n",
      "31/31 [==============================] - 305s - loss: 0.1764 - acc: 0.9573 - val_loss: 0.0747 - val_acc: 0.9909\n",
      "Epoch 76/200\n",
      "31/31 [==============================] - 301s - loss: 0.2100 - acc: 0.9392 - val_loss: 0.0660 - val_acc: 0.9939\n",
      "Epoch 77/200\n",
      "31/31 [==============================] - 300s - loss: 0.2049 - acc: 0.9341 - val_loss: 0.0610 - val_acc: 0.9929\n",
      "Epoch 78/200\n",
      "31/31 [==============================] - 300s - loss: 0.1877 - acc: 0.9338 - val_loss: 0.0616 - val_acc: 0.9949\n",
      "Epoch 79/200\n",
      "31/31 [==============================] - 303s - loss: 0.1936 - acc: 0.9432 - val_loss: 0.0552 - val_acc: 0.9919\n",
      "Epoch 80/200\n",
      "31/31 [==============================] - 300s - loss: 0.2076 - acc: 0.9409 - val_loss: 0.0711 - val_acc: 0.9878\n",
      "Epoch 81/200\n",
      "31/31 [==============================] - 301s - loss: 0.1852 - acc: 0.9412 - val_loss: 0.0597 - val_acc: 0.9949\n",
      "Epoch 82/200\n",
      "31/31 [==============================] - 300s - loss: 0.1882 - acc: 0.9456 - val_loss: 0.0553 - val_acc: 0.9888\n",
      "Epoch 83/200\n",
      "31/31 [==============================] - 304s - loss: 0.1898 - acc: 0.9409 - val_loss: 0.0515 - val_acc: 0.9970\n",
      "Epoch 84/200\n",
      "31/31 [==============================] - 300s - loss: 0.1870 - acc: 0.9385 - val_loss: 0.0533 - val_acc: 0.9949\n",
      "Epoch 85/200\n",
      "31/31 [==============================] - 300s - loss: 0.1467 - acc: 0.9583 - val_loss: 0.0445 - val_acc: 0.9990\n",
      "Epoch 86/200\n",
      "31/31 [==============================] - 300s - loss: 0.1541 - acc: 0.9513 - val_loss: 0.0489 - val_acc: 0.9929\n",
      "Epoch 87/200\n",
      "31/31 [==============================] - 303s - loss: 0.1673 - acc: 0.9472 - val_loss: 0.0473 - val_acc: 0.9970\n",
      "Epoch 88/200\n",
      "31/31 [==============================] - 300s - loss: 0.1876 - acc: 0.9462 - val_loss: 0.0449 - val_acc: 0.9980\n",
      "Epoch 89/200\n",
      "31/31 [==============================] - 300s - loss: 0.1547 - acc: 0.9526 - val_loss: 0.0545 - val_acc: 0.9939\n",
      "Epoch 90/200\n",
      "31/31 [==============================] - 300s - loss: 0.1844 - acc: 0.9341 - val_loss: 0.0458 - val_acc: 0.9980\n",
      "Epoch 91/200\n",
      "31/31 [==============================] - 301s - loss: 0.1543 - acc: 0.9533 - val_loss: 0.0399 - val_acc: 0.9970\n",
      "Epoch 92/200\n",
      "31/31 [==============================] - 299s - loss: 0.1551 - acc: 0.9583 - val_loss: 0.0418 - val_acc: 0.9970\n",
      "Epoch 93/200\n",
      "31/31 [==============================] - 300s - loss: 0.1432 - acc: 0.9543 - val_loss: 0.0493 - val_acc: 0.9959\n",
      "Epoch 94/200\n",
      "31/31 [==============================] - 300s - loss: 0.1409 - acc: 0.9614 - val_loss: 0.0400 - val_acc: 0.9980\n",
      "Epoch 95/200\n",
      "31/31 [==============================] - 301s - loss: 0.1344 - acc: 0.9597 - val_loss: 0.0376 - val_acc: 0.9980\n",
      "Epoch 96/200\n",
      "31/31 [==============================] - 300s - loss: 0.1578 - acc: 0.9553 - val_loss: 0.0378 - val_acc: 1.0000\n",
      "Epoch 97/200\n",
      "31/31 [==============================] - 303s - loss: 0.1574 - acc: 0.9506 - val_loss: 0.0390 - val_acc: 0.9970\n",
      "Epoch 98/200\n",
      "31/31 [==============================] - 300s - loss: 0.1576 - acc: 0.9614 - val_loss: 0.0326 - val_acc: 0.9980\n",
      "Epoch 99/200\n",
      "31/31 [==============================] - 301s - loss: 0.1513 - acc: 0.9573 - val_loss: 0.0369 - val_acc: 0.9970\n",
      "Epoch 100/200\n",
      "31/31 [==============================] - 300s - loss: 0.1395 - acc: 0.9577 - val_loss: 0.0364 - val_acc: 0.9970\n",
      "Epoch 101/200\n",
      "31/31 [==============================] - 300s - loss: 0.1277 - acc: 0.9657 - val_loss: 0.0285 - val_acc: 1.0000\n",
      "Epoch 102/200\n",
      "31/31 [==============================] - 300s - loss: 0.1403 - acc: 0.9603 - val_loss: 0.0368 - val_acc: 0.9980\n",
      "Epoch 103/200\n",
      "31/31 [==============================] - 301s - loss: 0.1358 - acc: 0.9587 - val_loss: 0.0338 - val_acc: 1.0000\n",
      "Epoch 104/200\n",
      "31/31 [==============================] - 300s - loss: 0.1187 - acc: 0.9674 - val_loss: 0.0354 - val_acc: 0.9980\n",
      "Epoch 105/200\n",
      "31/31 [==============================] - 300s - loss: 0.1448 - acc: 0.9533 - val_loss: 0.0325 - val_acc: 0.9959\n",
      "Epoch 106/200\n",
      "31/31 [==============================] - 300s - loss: 0.1313 - acc: 0.9526 - val_loss: 0.0314 - val_acc: 0.9959\n",
      "Epoch 107/200\n",
      "31/31 [==============================] - 300s - loss: 0.1195 - acc: 0.9704 - val_loss: 0.0273 - val_acc: 0.9990\n",
      "Epoch 108/200\n",
      "31/31 [==============================] - 300s - loss: 0.1208 - acc: 0.9580 - val_loss: 0.0286 - val_acc: 0.9990\n",
      "Epoch 109/200\n",
      "31/31 [==============================] - 300s - loss: 0.1264 - acc: 0.9630 - val_loss: 0.0286 - val_acc: 0.9990\n",
      "Epoch 110/200\n",
      "31/31 [==============================] - 301s - loss: 0.1046 - acc: 0.9738 - val_loss: 0.0225 - val_acc: 1.0000\n",
      "Epoch 111/200\n",
      "31/31 [==============================] - 301s - loss: 0.1057 - acc: 0.9674 - val_loss: 0.0258 - val_acc: 0.9980\n",
      "Epoch 112/200\n",
      "31/31 [==============================] - 300s - loss: 0.1021 - acc: 0.9708 - val_loss: 0.0241 - val_acc: 0.9990\n",
      "Epoch 113/200\n",
      "31/31 [==============================] - 301s - loss: 0.1124 - acc: 0.9637 - val_loss: 0.0267 - val_acc: 0.9980\n",
      "Epoch 114/200\n",
      "31/31 [==============================] - 300s - loss: 0.1074 - acc: 0.9664 - val_loss: 0.0211 - val_acc: 1.0000\n",
      "Epoch 115/200\n",
      "31/31 [==============================] - 300s - loss: 0.1157 - acc: 0.9627 - val_loss: 0.0204 - val_acc: 1.0000\n",
      "Epoch 116/200\n",
      "31/31 [==============================] - 300s - loss: 0.0901 - acc: 0.9819 - val_loss: 0.0238 - val_acc: 0.9980\n",
      "Epoch 117/200\n",
      "31/31 [==============================] - 301s - loss: 0.0929 - acc: 0.9728 - val_loss: 0.0252 - val_acc: 0.9980\n",
      "Epoch 118/200\n",
      "31/31 [==============================] - 300s - loss: 0.1179 - acc: 0.9681 - val_loss: 0.0206 - val_acc: 1.0000\n",
      "Epoch 119/200\n",
      "31/31 [==============================] - 300s - loss: 0.1026 - acc: 0.9708 - val_loss: 0.0209 - val_acc: 0.9980\n",
      "Epoch 120/200\n",
      "31/31 [==============================] - 300s - loss: 0.1081 - acc: 0.9718 - val_loss: 0.0220 - val_acc: 0.9980\n",
      "Epoch 121/200\n",
      "31/31 [==============================] - 300s - loss: 0.0953 - acc: 0.9785 - val_loss: 0.0190 - val_acc: 1.0000\n",
      "Epoch 122/200\n",
      "31/31 [==============================] - 300s - loss: 0.1147 - acc: 0.9674 - val_loss: 0.0273 - val_acc: 0.9959\n",
      "Epoch 123/200\n",
      "31/31 [==============================] - 301s - loss: 0.1003 - acc: 0.9724 - val_loss: 0.0197 - val_acc: 0.9990\n",
      "Epoch 124/200\n",
      "31/31 [==============================] - 300s - loss: 0.1209 - acc: 0.9661 - val_loss: 0.0174 - val_acc: 1.0000\n",
      "Epoch 125/200\n",
      "31/31 [==============================] - 300s - loss: 0.0954 - acc: 0.9738 - val_loss: 0.0182 - val_acc: 0.9990\n",
      "Epoch 126/200\n",
      "31/31 [==============================] - 300s - loss: 0.0875 - acc: 0.9778 - val_loss: 0.0176 - val_acc: 1.0000\n",
      "Epoch 127/200\n",
      "31/31 [==============================] - 300s - loss: 0.1009 - acc: 0.9735 - val_loss: 0.0170 - val_acc: 1.0000\n",
      "Epoch 128/200\n",
      "31/31 [==============================] - 300s - loss: 0.0756 - acc: 0.9869 - val_loss: 0.0150 - val_acc: 1.0000\n",
      "Epoch 129/200\n",
      "31/31 [==============================] - 302s - loss: 0.0969 - acc: 0.9748 - val_loss: 0.0128 - val_acc: 1.0000\n",
      "Epoch 130/200\n",
      "31/31 [==============================] - 301s - loss: 0.0825 - acc: 0.9788 - val_loss: 0.0154 - val_acc: 1.0000\n",
      "Epoch 131/200\n"
     ]
    },
    {
     "name": "stdout",
     "output_type": "stream",
     "text": [
      "31/31 [==============================] - 300s - loss: 0.0891 - acc: 0.9735 - val_loss: 0.0124 - val_acc: 1.0000\n",
      "Epoch 132/200\n",
      "31/31 [==============================] - 300s - loss: 0.0962 - acc: 0.9738 - val_loss: 0.0133 - val_acc: 1.0000\n",
      "Epoch 133/200\n",
      "31/31 [==============================] - 300s - loss: 0.0852 - acc: 0.9778 - val_loss: 0.0131 - val_acc: 1.0000\n",
      "Epoch 134/200\n",
      "31/31 [==============================] - 300s - loss: 0.0782 - acc: 0.9798 - val_loss: 0.0179 - val_acc: 1.0000\n",
      "Epoch 135/200\n",
      "31/31 [==============================] - 301s - loss: 0.0909 - acc: 0.9782 - val_loss: 0.0178 - val_acc: 0.9970\n",
      "Epoch 136/200\n",
      "31/31 [==============================] - 300s - loss: 0.0834 - acc: 0.9714 - val_loss: 0.0127 - val_acc: 1.0000\n",
      "Epoch 137/200\n",
      "31/31 [==============================] - 301s - loss: 0.0982 - acc: 0.9738 - val_loss: 0.0124 - val_acc: 1.0000\n",
      "Epoch 138/200\n",
      "31/31 [==============================] - 300s - loss: 0.0719 - acc: 0.9825 - val_loss: 0.0121 - val_acc: 1.0000\n",
      "Epoch 139/200\n",
      "31/31 [==============================] - 301s - loss: 0.0865 - acc: 0.9758 - val_loss: 0.0121 - val_acc: 1.0000\n",
      "Epoch 140/200\n",
      "31/31 [==============================] - 300s - loss: 0.0601 - acc: 0.9839 - val_loss: 0.0106 - val_acc: 1.0000\n",
      "Epoch 141/200\n",
      "31/31 [==============================] - 303s - loss: 0.0788 - acc: 0.9778 - val_loss: 0.0133 - val_acc: 1.0000\n",
      "Epoch 142/200\n",
      "31/31 [==============================] - 301s - loss: 0.0853 - acc: 0.9745 - val_loss: 0.0117 - val_acc: 1.0000\n",
      "Epoch 143/200\n",
      "31/31 [==============================] - 300s - loss: 0.0779 - acc: 0.9775 - val_loss: 0.0103 - val_acc: 1.0000\n",
      "Epoch 144/200\n",
      "31/31 [==============================] - 300s - loss: 0.0565 - acc: 0.9906 - val_loss: 0.0109 - val_acc: 1.0000\n",
      "Epoch 145/200\n",
      "31/31 [==============================] - 300s - loss: 0.0744 - acc: 0.9795 - val_loss: 0.0088 - val_acc: 1.0000\n",
      "Epoch 146/200\n",
      "31/31 [==============================] - 304s - loss: 0.0730 - acc: 0.9755 - val_loss: 0.0133 - val_acc: 1.0000\n",
      "Epoch 147/200\n",
      "31/31 [==============================] - 310s - loss: 0.0783 - acc: 0.9829 - val_loss: 0.0138 - val_acc: 1.0000\n",
      "Epoch 148/200\n",
      "31/31 [==============================] - 322s - loss: 0.0771 - acc: 0.9808 - val_loss: 0.0096 - val_acc: 1.0000\n",
      "Epoch 149/200\n",
      "31/31 [==============================] - 325s - loss: 0.0578 - acc: 0.9869 - val_loss: 0.0084 - val_acc: 1.0000\n",
      "Epoch 150/200\n",
      "31/31 [==============================] - 310s - loss: 0.0670 - acc: 0.9765 - val_loss: 0.0123 - val_acc: 1.0000\n",
      "Epoch 151/200\n",
      "31/31 [==============================] - 325s - loss: 0.0764 - acc: 0.9718 - val_loss: 0.0142 - val_acc: 1.0000\n",
      "Epoch 152/200\n",
      "31/31 [==============================] - 302s - loss: 0.0818 - acc: 0.9684 - val_loss: 0.0108 - val_acc: 1.0000\n",
      "Epoch 153/200\n",
      "31/31 [==============================] - 300s - loss: 0.0713 - acc: 0.9829 - val_loss: 0.0098 - val_acc: 1.0000\n",
      "Epoch 154/200\n",
      "31/31 [==============================] - 301s - loss: 0.0567 - acc: 0.9889 - val_loss: 0.0074 - val_acc: 1.0000\n",
      "Epoch 155/200\n",
      "31/31 [==============================] - 300s - loss: 0.0563 - acc: 0.9869 - val_loss: 0.0072 - val_acc: 1.0000\n",
      "Epoch 156/200\n",
      "31/31 [==============================] - 301s - loss: 0.0563 - acc: 0.9819 - val_loss: 0.0078 - val_acc: 1.0000\n",
      "Epoch 157/200\n",
      "31/31 [==============================] - 309s - loss: 0.0645 - acc: 0.9829 - val_loss: 0.0089 - val_acc: 1.0000\n",
      "Epoch 158/200\n",
      "31/31 [==============================] - 305s - loss: 0.0616 - acc: 0.9859 - val_loss: 0.0070 - val_acc: 1.0000\n",
      "Epoch 159/200\n",
      "31/31 [==============================] - 301s - loss: 0.0765 - acc: 0.9785 - val_loss: 0.0090 - val_acc: 1.0000\n",
      "Epoch 160/200\n",
      "31/31 [==============================] - 300s - loss: 0.0756 - acc: 0.9819 - val_loss: 0.0082 - val_acc: 1.0000\n",
      "Epoch 161/200\n",
      "31/31 [==============================] - 304s - loss: 0.0620 - acc: 0.9829 - val_loss: 0.0072 - val_acc: 1.0000\n",
      "Epoch 162/200\n",
      "31/31 [==============================] - 306s - loss: 0.0503 - acc: 0.9886 - val_loss: 0.0064 - val_acc: 1.0000\n",
      "Epoch 163/200\n",
      "31/31 [==============================] - 301s - loss: 0.0482 - acc: 0.9859 - val_loss: 0.0078 - val_acc: 1.0000\n",
      "Epoch 164/200\n",
      "31/31 [==============================] - 301s - loss: 0.0606 - acc: 0.9822 - val_loss: 0.0068 - val_acc: 1.0000\n",
      "Epoch 165/200\n",
      "31/31 [==============================] - 300s - loss: 0.0575 - acc: 0.9879 - val_loss: 0.0065 - val_acc: 1.0000\n",
      "Epoch 166/200\n",
      "31/31 [==============================] - 302s - loss: 0.0564 - acc: 0.9859 - val_loss: 0.0069 - val_acc: 1.0000\n",
      "Epoch 167/200\n",
      "31/31 [==============================] - 300s - loss: 0.0533 - acc: 0.9879 - val_loss: 0.0054 - val_acc: 1.0000\n",
      "Epoch 168/200\n",
      "31/31 [==============================] - 300s - loss: 0.0591 - acc: 0.9879 - val_loss: 0.0071 - val_acc: 1.0000\n",
      "Epoch 169/200\n",
      "31/31 [==============================] - 301s - loss: 0.0526 - acc: 0.9859 - val_loss: 0.0082 - val_acc: 1.0000\n",
      "Epoch 170/200\n",
      "31/31 [==============================] - 302s - loss: 0.0419 - acc: 0.9940 - val_loss: 0.0044 - val_acc: 1.0000\n",
      "Epoch 171/200\n",
      "31/31 [==============================] - 301s - loss: 0.0735 - acc: 0.9798 - val_loss: 0.0058 - val_acc: 1.0000\n",
      "Epoch 172/200\n",
      "31/31 [==============================] - 300s - loss: 0.0641 - acc: 0.9819 - val_loss: 0.0058 - val_acc: 1.0000\n",
      "Epoch 173/200\n",
      "31/31 [==============================] - 301s - loss: 0.0563 - acc: 0.9866 - val_loss: 0.0056 - val_acc: 1.0000\n",
      "Epoch 174/200\n",
      "31/31 [==============================] - 301s - loss: 0.0602 - acc: 0.9812 - val_loss: 0.0050 - val_acc: 1.0000\n",
      "Epoch 175/200\n",
      "31/31 [==============================] - 301s - loss: 0.0595 - acc: 0.9829 - val_loss: 0.0053 - val_acc: 1.0000\n",
      "Epoch 176/200\n",
      "31/31 [==============================] - 300s - loss: 0.0612 - acc: 0.9805 - val_loss: 0.0054 - val_acc: 1.0000\n",
      "Epoch 177/200\n",
      "31/31 [==============================] - 301s - loss: 0.0505 - acc: 0.9899 - val_loss: 0.0048 - val_acc: 1.0000\n",
      "Epoch 178/200\n",
      "31/31 [==============================] - 301s - loss: 0.0632 - acc: 0.9835 - val_loss: 0.0058 - val_acc: 1.0000\n",
      "Epoch 179/200\n",
      "31/31 [==============================] - 300s - loss: 0.0409 - acc: 0.9946 - val_loss: 0.0052 - val_acc: 1.0000\n",
      "Epoch 180/200\n",
      "31/31 [==============================] - 301s - loss: 0.0611 - acc: 0.9866 - val_loss: 0.0071 - val_acc: 1.0000\n",
      "Epoch 181/200\n",
      "31/31 [==============================] - 301s - loss: 0.0554 - acc: 0.9839 - val_loss: 0.0055 - val_acc: 1.0000\n",
      "Epoch 182/200\n",
      "31/31 [==============================] - 301s - loss: 0.0544 - acc: 0.9856 - val_loss: 0.0053 - val_acc: 1.0000\n",
      "Epoch 183/200\n",
      "31/31 [==============================] - 301s - loss: 0.0357 - acc: 0.9950 - val_loss: 0.0055 - val_acc: 1.0000\n",
      "Epoch 184/200\n",
      "31/31 [==============================] - 300s - loss: 0.0504 - acc: 0.9869 - val_loss: 0.0042 - val_acc: 1.0000\n",
      "Epoch 185/200\n",
      "31/31 [==============================] - 301s - loss: 0.0492 - acc: 0.9879 - val_loss: 0.0051 - val_acc: 1.0000\n",
      "Epoch 186/200\n",
      "31/31 [==============================] - 301s - loss: 0.0511 - acc: 0.9845 - val_loss: 0.0039 - val_acc: 1.0000\n",
      "Epoch 187/200\n",
      "31/31 [==============================] - 301s - loss: 0.0479 - acc: 0.9909 - val_loss: 0.0037 - val_acc: 1.0000\n",
      "Epoch 188/200\n",
      "31/31 [==============================] - 301s - loss: 0.0352 - acc: 0.9970 - val_loss: 0.0032 - val_acc: 1.0000\n",
      "Epoch 189/200\n",
      "31/31 [==============================] - 301s - loss: 0.0444 - acc: 0.9899 - val_loss: 0.0038 - val_acc: 1.0000\n",
      "Epoch 190/200\n",
      "31/31 [==============================] - 301s - loss: 0.0478 - acc: 0.9876 - val_loss: 0.0036 - val_acc: 1.0000\n",
      "Epoch 191/200\n",
      "31/31 [==============================] - 301s - loss: 0.0418 - acc: 0.9926 - val_loss: 0.0047 - val_acc: 1.0000\n",
      "Epoch 192/200\n",
      "31/31 [==============================] - 301s - loss: 0.0343 - acc: 0.9950 - val_loss: 0.0039 - val_acc: 1.0000\n",
      "Epoch 193/200\n",
      "31/31 [==============================] - 303s - loss: 0.0559 - acc: 0.9819 - val_loss: 0.0034 - val_acc: 1.0000\n",
      "Epoch 194/200\n",
      "31/31 [==============================] - 301s - loss: 0.0575 - acc: 0.9798 - val_loss: 0.0037 - val_acc: 1.0000\n",
      "Epoch 195/200\n",
      "31/31 [==============================] - 301s - loss: 0.0456 - acc: 0.9909 - val_loss: 0.0036 - val_acc: 1.0000\n",
      "Epoch 196/200\n"
     ]
    },
    {
     "name": "stdout",
     "output_type": "stream",
     "text": [
      "31/31 [==============================] - 308s - loss: 0.0447 - acc: 0.9909 - val_loss: 0.0041 - val_acc: 1.0000\n",
      "Epoch 197/200\n",
      "31/31 [==============================] - 319s - loss: 0.0478 - acc: 0.9879 - val_loss: 0.0038 - val_acc: 1.0000\n",
      "Epoch 198/200\n",
      "31/31 [==============================] - 304s - loss: 0.0380 - acc: 0.9889 - val_loss: 0.0040 - val_acc: 1.0000\n",
      "Epoch 199/200\n",
      "31/31 [==============================] - 304s - loss: 0.0428 - acc: 0.9896 - val_loss: 0.0055 - val_acc: 1.0000\n",
      "Epoch 200/200\n",
      "31/31 [==============================] - 303s - loss: 0.0407 - acc: 0.9916 - val_loss: 0.0036 - val_acc: 1.0000\n"
     ]
    }
   ],
   "source": [
    "history = model.fit_generator(\n",
    "    train_generator,\n",
    "    steps_per_epoch = train_generator.samples // batch_size,\n",
    "    epochs = epochs ,\n",
    "    validation_data = validation_generator,\n",
    "    validation_steps = validation_generator.samples // batch_size\n",
    ")"
   ]
  },
  {
   "cell_type": "code",
   "execution_count": 14,
   "metadata": {
    "colab": {
     "autoexec": {
      "startup": false,
      "wait_interval": 0
     },
     "base_uri": "https://localhost:8080/",
     "height": 361
    },
    "colab_type": "code",
    "executionInfo": {
     "elapsed": 1335,
     "status": "ok",
     "timestamp": 1527355575147,
     "user": {
      "displayName": "Kazuki Hara",
      "photoUrl": "https://lh3.googleusercontent.com/a/default-user=s128",
      "userId": "112158034813562364180"
     },
     "user_tz": -540
    },
    "id": "TDqDk2vMUYo4",
    "outputId": "4f4eea8b-d91c-46bd-db1f-83a2d9581ae8"
   },
   "outputs": [
    {
     "data": {
      "image/png": "[encoded data removed]",
      "text/plain": [
       "<matplotlib.figure.Figure at 0x7f0c9af8f7d0>"
      ]
     },
     "metadata": {},
     "output_type": "display_data"
    }
   ],
   "source": [
    "loss = history.history[\"loss\"]\n",
    "val_loss = history.history[\"val_loss\"]\n",
    "\n",
    "plt.plot(range(epochs), loss, marker = \".\", label = \"loss\")\n",
    "plt.plot(range(epochs),val_loss , marker = \".\" ,label = \"val_loss\")\n",
    "plt.legend(loc = \"best\")\n",
    "plt.grid()\n",
    "plt.xlabel(\"epoch\")\n",
    "plt.ylabel(\"loss\")\n",
    "plt.show()"
   ]
  },
  {
   "cell_type": "code",
   "execution_count": 15,
   "metadata": {
    "colab": {
     "autoexec": {
      "startup": false,
      "wait_interval": 0
     },
     "base_uri": "https://localhost:8080/",
     "height": 361
    },
    "colab_type": "code",
    "executionInfo": {
     "elapsed": 787,
     "status": "ok",
     "timestamp": 1527355579921,
     "user": {
      "displayName": "Kazuki Hara",
      "photoUrl": "https://lh3.googleusercontent.com/a/default-user=s128",
      "userId": "112158034813562364180"
     },
     "user_tz": -540
    },
    "id": "eOLOHGTwUYo9",
    "outputId": "a696f27c-3cb5-4eb7-dc5b-71635a7ed20c"
   },
   "outputs": [
    {
     "data": {
      "image/png": "[encoded data removed]",
      "text/plain": [
       "<matplotlib.figure.Figure at 0x7f0c9aec4e10>"
      ]
     },
     "metadata": {},
     "output_type": "display_data"
    }
   ],
   "source": [
    "acc = history.history[\"acc\"]\n",
    "val_acc = history.history[\"val_acc\"]\n",
    "\n",
    "plt.plot(range(epochs), acc, marker = \".\", label = \"acc\")\n",
    "plt.plot(range(epochs),val_acc , marker = \".\" ,label = \"val_acc\")\n",
    "plt.legend(loc = \"best\")\n",
    "plt.grid()\n",
    "plt.xlabel(\"epoch\")\n",
    "plt.ylabel(\"acc\")\n",
    "plt.show()"
   ]
  },
  {
   "cell_type": "code",
   "execution_count": 16,
   "metadata": {
    "colab": {
     "autoexec": {
      "startup": false,
      "wait_interval": 0
     }
    },
    "colab_type": "code",
    "id": "Rw_OP2yvUYpE"
   },
   "outputs": [],
   "source": [
    "import pickle"
   ]
  },
  {
   "cell_type": "code",
   "execution_count": 17,
   "metadata": {
    "colab": {
     "autoexec": {
      "startup": false,
      "wait_interval": 0
     }
    },
    "colab_type": "code",
    "id": "8PH-MHo2UYpI"
   },
   "outputs": [],
   "source": [
    "with open(\"./results/history3.pkl\" , mode = \"wbf\") as f :\n",
    "    pickle.dump(history.history, f)"
   ]
  },
  {
   "cell_type": "code",
   "execution_count": 18,
   "metadata": {
    "colab": {
     "autoexec": {
      "startup": false,
      "wait_interval": 0
     }
    },
    "colab_type": "code",
    "id": "Batlv-tPUYpR"
   },
   "outputs": [],
   "source": [
    "model.save(\"./results/model3.h5\")"
   ]
  },
  {
   "cell_type": "code",
   "execution_count": 19,
   "metadata": {
    "colab": {
     "autoexec": {
      "startup": false,
      "wait_interval": 0
     }
    },
    "colab_type": "code",
    "id": "umae1VAKUYpa"
   },
   "outputs": [],
   "source": [
    "def predict(img_file_path):\n",
    "    display(Image(img_file_path, width = 150 , unconfined = True ))\n",
    "    img = image.load_img(img_file_path , target_size = (img_rows, img_cols))\n",
    "    x = image.img_to_array(img)\n",
    "    x = np.expand_dims(x , axis = 0)\n",
    "    \n",
    "    x = x / 255.0\n",
    "    \n",
    "    pred = model.predict(x)[0]\n",
    "    \n",
    "    top = 5\n",
    "    top_indices = pred.argsort()[-top:][::-1]\n",
    "    result = [(classes[i], pred[i]) for i in top_indices]\n",
    "    for x in result:\n",
    "        print(x)\n",
    "        "
   ]
  },
  {
   "cell_type": "code",
   "execution_count": 20,
   "metadata": {
    "colab": {
     "autoexec": {
      "startup": false,
      "wait_interval": 0
     },
     "base_uri": "https://localhost:8080/",
     "height": 542
    },
    "colab_type": "code",
    "executionInfo": {
     "elapsed": 3360,
     "status": "error",
     "timestamp": 1527362208842,
     "user": {
      "displayName": "Kazuki Hara",
      "photoUrl": "https://lh3.googleusercontent.com/a/default-user=s128",
      "userId": "112158034813562364180"
     },
     "user_tz": -540
    },
    "id": "ifK2FuPeUYpj",
    "outputId": "eda16609-da13-43be-cb5c-66a1a48d54ee"
   },
   "outputs": [
    {
     "data": {
      "image/png": "[encoded data removed]",
      "text/plain": [
       "<IPython.core.display.Image object>"
      ]
     },
     "metadata": {
      "image/png": {
       "unconfined": true,
       "width": 150
      }
     },
     "output_type": "display_data"
    },
    {
     "ename": "IOError",
     "evalue": "[Errno 2] No such file or directory: './validation/jellyfish/0ed923559435f325d2175905ec9f4258_m.jpg'",
     "output_type": "error",
     "traceback": [
      "\u001b[0;31m---------------------------------------------------------------------------\u001b[0m",
      "\u001b[0;31mIOError\u001b[0m                                   Traceback (most recent call last)",
      "\u001b[0;32m<ipython-input-20-0849f5902259>\u001b[0m in \u001b[0;36m<module>\u001b[0;34m()\u001b[0m\n\u001b[0;32m----> 1\u001b[0;31m \u001b[0mpredict\u001b[0m\u001b[0;34m(\u001b[0m\u001b[0;34m\"./validation/jellyfish/0ed923559435f325d2175905ec9f4258_m.jpg\"\u001b[0m\u001b[0;34m)\u001b[0m\u001b[0;34m\u001b[0m\u001b[0m\n\u001b[0m",
      "\u001b[0;32m<ipython-input-19-6c3367cf9e2f>\u001b[0m in \u001b[0;36mpredict\u001b[0;34m(img_file_path)\u001b[0m\n\u001b[1;32m      1\u001b[0m \u001b[0;32mdef\u001b[0m \u001b[0mpredict\u001b[0m\u001b[0;34m(\u001b[0m\u001b[0mimg_file_path\u001b[0m\u001b[0;34m)\u001b[0m\u001b[0;34m:\u001b[0m\u001b[0;34m\u001b[0m\u001b[0m\n\u001b[1;32m      2\u001b[0m     \u001b[0mdisplay\u001b[0m\u001b[0;34m(\u001b[0m\u001b[0mImage\u001b[0m\u001b[0;34m(\u001b[0m\u001b[0mimg_file_path\u001b[0m\u001b[0;34m,\u001b[0m \u001b[0mwidth\u001b[0m \u001b[0;34m=\u001b[0m \u001b[0;36m150\u001b[0m \u001b[0;34m,\u001b[0m \u001b[0munconfined\u001b[0m \u001b[0;34m=\u001b[0m \u001b[0mTrue\u001b[0m \u001b[0;34m)\u001b[0m\u001b[0;34m)\u001b[0m\u001b[0;34m\u001b[0m\u001b[0m\n\u001b[0;32m----> 3\u001b[0;31m     \u001b[0mimg\u001b[0m \u001b[0;34m=\u001b[0m \u001b[0mimage\u001b[0m\u001b[0;34m.\u001b[0m\u001b[0mload_img\u001b[0m\u001b[0;34m(\u001b[0m\u001b[0mimg_file_path\u001b[0m \u001b[0;34m,\u001b[0m \u001b[0mtarget_size\u001b[0m \u001b[0;34m=\u001b[0m \u001b[0;34m(\u001b[0m\u001b[0mimg_rows\u001b[0m\u001b[0;34m,\u001b[0m \u001b[0mimg_cols\u001b[0m\u001b[0;34m)\u001b[0m\u001b[0;34m)\u001b[0m\u001b[0;34m\u001b[0m\u001b[0m\n\u001b[0m\u001b[1;32m      4\u001b[0m     \u001b[0mx\u001b[0m \u001b[0;34m=\u001b[0m \u001b[0mimage\u001b[0m\u001b[0;34m.\u001b[0m\u001b[0mimg_to_array\u001b[0m\u001b[0;34m(\u001b[0m\u001b[0mimg\u001b[0m\u001b[0;34m)\u001b[0m\u001b[0;34m\u001b[0m\u001b[0m\n\u001b[1;32m      5\u001b[0m     \u001b[0mx\u001b[0m \u001b[0;34m=\u001b[0m \u001b[0mnp\u001b[0m\u001b[0;34m.\u001b[0m\u001b[0mexpand_dims\u001b[0m\u001b[0;34m(\u001b[0m\u001b[0mx\u001b[0m \u001b[0;34m,\u001b[0m \u001b[0maxis\u001b[0m \u001b[0;34m=\u001b[0m \u001b[0;36m0\u001b[0m\u001b[0;34m)\u001b[0m\u001b[0;34m\u001b[0m\u001b[0m\n",
      "\u001b[0;32m/home/kazuki/.pyenv/versions/anaconda3-5.1.0/envs/CoreMl/lib/python2.7/site-packages/keras/preprocessing/image.pyc\u001b[0m in \u001b[0;36mload_img\u001b[0;34m(path, grayscale, target_size)\u001b[0m\n\u001b[1;32m    318\u001b[0m         raise ImportError('Could not import PIL.Image. '\n\u001b[1;32m    319\u001b[0m                           'The use of `array_to_img` requires PIL.')\n\u001b[0;32m--> 320\u001b[0;31m     \u001b[0mimg\u001b[0m \u001b[0;34m=\u001b[0m \u001b[0mpil_image\u001b[0m\u001b[0;34m.\u001b[0m\u001b[0mopen\u001b[0m\u001b[0;34m(\u001b[0m\u001b[0mpath\u001b[0m\u001b[0;34m)\u001b[0m\u001b[0;34m\u001b[0m\u001b[0m\n\u001b[0m\u001b[1;32m    321\u001b[0m     \u001b[0;32mif\u001b[0m \u001b[0mgrayscale\u001b[0m\u001b[0;34m:\u001b[0m\u001b[0;34m\u001b[0m\u001b[0m\n\u001b[1;32m    322\u001b[0m         \u001b[0;32mif\u001b[0m \u001b[0mimg\u001b[0m\u001b[0;34m.\u001b[0m\u001b[0mmode\u001b[0m \u001b[0;34m!=\u001b[0m \u001b[0;34m'L'\u001b[0m\u001b[0;34m:\u001b[0m\u001b[0;34m\u001b[0m\u001b[0m\n",
      "\u001b[0;32m/home/kazuki/.pyenv/versions/anaconda3-5.1.0/envs/CoreMl/lib/python2.7/site-packages/PIL/Image.pyc\u001b[0m in \u001b[0;36mopen\u001b[0;34m(fp, mode)\u001b[0m\n\u001b[1;32m   2541\u001b[0m \u001b[0;34m\u001b[0m\u001b[0m\n\u001b[1;32m   2542\u001b[0m     \u001b[0;32mif\u001b[0m \u001b[0mfilename\u001b[0m\u001b[0;34m:\u001b[0m\u001b[0;34m\u001b[0m\u001b[0m\n\u001b[0;32m-> 2543\u001b[0;31m         \u001b[0mfp\u001b[0m \u001b[0;34m=\u001b[0m \u001b[0mbuiltins\u001b[0m\u001b[0;34m.\u001b[0m\u001b[0mopen\u001b[0m\u001b[0;34m(\u001b[0m\u001b[0mfilename\u001b[0m\u001b[0;34m,\u001b[0m \u001b[0;34m\"rb\"\u001b[0m\u001b[0;34m)\u001b[0m\u001b[0;34m\u001b[0m\u001b[0m\n\u001b[0m\u001b[1;32m   2544\u001b[0m         \u001b[0mexclusive_fp\u001b[0m \u001b[0;34m=\u001b[0m \u001b[0mTrue\u001b[0m\u001b[0;34m\u001b[0m\u001b[0m\n\u001b[1;32m   2545\u001b[0m \u001b[0;34m\u001b[0m\u001b[0m\n",
      "\u001b[0;31mIOError\u001b[0m: [Errno 2] No such file or directory: './validation/jellyfish/0ed923559435f325d2175905ec9f4258_m.jpg'"
     ]
    }
   ],
   "source": [
    "predict(\"./validation/jellyfish/0ed923559435f325d2175905ec9f4258_m.jpg\")"
   ]
  },
  {
   "cell_type": "code",
   "execution_count": null,
   "metadata": {
    "colab": {
     "autoexec": {
      "startup": false,
      "wait_interval": 0
     },
     "base_uri": "https://localhost:8080/",
     "height": 646
    },
    "colab_type": "code",
    "executionInfo": {
     "elapsed": 20671,
     "status": "ok",
     "timestamp": 1527374299920,
     "user": {
      "displayName": "Kazuki Hara",
      "photoUrl": "https://lh3.googleusercontent.com/a/default-user=s128",
      "userId": "112158034813562364180"
     },
     "user_tz": -540
    },
    "id": "Ym2aiMZP0Gom",
    "outputId": "29af2bd3-5ce9-46eb-80b9-b28ee027b0f0"
   },
   "outputs": [],
   "source": [
    "import coremltools\n",
    "\n",
    "model_path = \"./results/model3.h5\"\n",
    "coreml_model = coremltools.converters.keras.convert(\n",
    "    model_path,\n",
    "    input_names = \"image\",\n",
    "    image_input_names = \"image\",\n",
    "    class_labels =  \"./label.txt\",\n",
    "    is_bgr = True,\n",
    "    image_scale = 1./255\n",
    ")\n",
    "coreml_model.save(\"./models/aquarium3.mlmodel\")"
   ]
  },
  {
   "cell_type": "code",
   "execution_count": null,
   "metadata": {},
   "outputs": [],
   "source": []
  }
 ],
 "metadata": {
  "accelerator": "GPU",
  "colab": {
   "default_view": {},
   "name": "fine-tuning-vgg16.ipynb",
   "provenance": [],
   "version": "0.3.2",
   "views": {}
  },
  "kernelspec": {
   "display_name": "Python 2",
   "language": "python",
   "name": "python2"
  },
  "language_info": {
   "codemirror_mode": {
    "name": "ipython",
    "version": 2
   },
   "file_extension": ".py",
   "mimetype": "text/x-python",
   "name": "python",
   "nbconvert_exporter": "python",
   "pygments_lexer": "ipython2",
   "version": "2.7.14"
  }
 },
 "nbformat": 4,
 "nbformat_minor": 1
}
